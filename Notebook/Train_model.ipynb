{
 "cells": [
  {
   "cell_type": "markdown",
   "metadata": {},
   "source": [
    "# Model Evaluation\n"
   ]
  },
  {
   "cell_type": "code",
   "execution_count": null,
   "metadata": {},
   "outputs": [],
   "source": [
    "import pandas as pd\n",
    "import numpy as np\n",
    "import matplotlib.pyplot as plt\n",
    "import seaborn as sns\n",
    "# pd.options.display.float_format = '{:,.2f}'.format\n",
    "%matplotlib inline\n",
    "from pycaret.regression import *\n",
    "from sklearn.neighbors import KNeighborsRegressor\n",
    "from sklearn.preprocessing import LabelEncoder\n",
    "from sklearn.model_selection import train_test_split\n",
    "from sklearn.preprocessing import StandardScaler\n",
    "from sklearn.ensemble import ExtraTreesRegressor\n",
    "from sklearn.metrics import mean_squared_error, r2_score\n"
   ]
  },
  {
   "cell_type": "code",
   "execution_count": 12,
   "metadata": {},
   "outputs": [],
   "source": [
    "Crop_df=pd.read_csv(\"data\\Crop_data_filtered.csv\")"
   ]
  },
  {
   "cell_type": "code",
   "execution_count": 13,
   "metadata": {},
   "outputs": [
    {
     "data": {
      "text/html": [
       "<div>\n",
       "<style scoped>\n",
       "    .dataframe tbody tr th:only-of-type {\n",
       "        vertical-align: middle;\n",
       "    }\n",
       "\n",
       "    .dataframe tbody tr th {\n",
       "        vertical-align: top;\n",
       "    }\n",
       "\n",
       "    .dataframe thead th {\n",
       "        text-align: right;\n",
       "    }\n",
       "</style>\n",
       "<table border=\"1\" class=\"dataframe\">\n",
       "  <thead>\n",
       "    <tr style=\"text-align: right;\">\n",
       "      <th></th>\n",
       "      <th>State_Name</th>\n",
       "      <th>District_Name</th>\n",
       "      <th>Crop_Year</th>\n",
       "      <th>Season</th>\n",
       "      <th>Crop</th>\n",
       "      <th>Area</th>\n",
       "      <th>Production</th>\n",
       "      <th>Zone</th>\n",
       "      <th>Crop_Category</th>\n",
       "      <th>Production/Area</th>\n",
       "    </tr>\n",
       "  </thead>\n",
       "  <tbody>\n",
       "    <tr>\n",
       "      <th>0</th>\n",
       "      <td>Andaman_and_Nicobar_Islands</td>\n",
       "      <td>NICOBARS</td>\n",
       "      <td>2000</td>\n",
       "      <td>Kharif</td>\n",
       "      <td>Arecanut</td>\n",
       "      <td>1254.0</td>\n",
       "      <td>2000.0</td>\n",
       "      <td>ut_india</td>\n",
       "      <td>Others</td>\n",
       "      <td>1.594896</td>\n",
       "    </tr>\n",
       "    <tr>\n",
       "      <th>1</th>\n",
       "      <td>Andaman_and_Nicobar_Islands</td>\n",
       "      <td>NICOBARS</td>\n",
       "      <td>2000</td>\n",
       "      <td>Kharif</td>\n",
       "      <td>Other_Kharif_pulses</td>\n",
       "      <td>2.0</td>\n",
       "      <td>1.0</td>\n",
       "      <td>ut_india</td>\n",
       "      <td>Others</td>\n",
       "      <td>0.500000</td>\n",
       "    </tr>\n",
       "    <tr>\n",
       "      <th>2</th>\n",
       "      <td>Andaman_and_Nicobar_Islands</td>\n",
       "      <td>NICOBARS</td>\n",
       "      <td>2000</td>\n",
       "      <td>Kharif</td>\n",
       "      <td>Rice</td>\n",
       "      <td>102.0</td>\n",
       "      <td>321.0</td>\n",
       "      <td>ut_india</td>\n",
       "      <td>Cereals</td>\n",
       "      <td>3.147059</td>\n",
       "    </tr>\n",
       "    <tr>\n",
       "      <th>3</th>\n",
       "      <td>Andaman_and_Nicobar_Islands</td>\n",
       "      <td>NICOBARS</td>\n",
       "      <td>2000</td>\n",
       "      <td>Whole_Year</td>\n",
       "      <td>Banana</td>\n",
       "      <td>176.0</td>\n",
       "      <td>641.0</td>\n",
       "      <td>ut_india</td>\n",
       "      <td>Fruits</td>\n",
       "      <td>3.642045</td>\n",
       "    </tr>\n",
       "    <tr>\n",
       "      <th>4</th>\n",
       "      <td>Andaman_and_Nicobar_Islands</td>\n",
       "      <td>NICOBARS</td>\n",
       "      <td>2000</td>\n",
       "      <td>Whole_Year</td>\n",
       "      <td>Cashewnut</td>\n",
       "      <td>720.0</td>\n",
       "      <td>165.0</td>\n",
       "      <td>ut_india</td>\n",
       "      <td>Nuts</td>\n",
       "      <td>0.229167</td>\n",
       "    </tr>\n",
       "    <tr>\n",
       "      <th>...</th>\n",
       "      <td>...</td>\n",
       "      <td>...</td>\n",
       "      <td>...</td>\n",
       "      <td>...</td>\n",
       "      <td>...</td>\n",
       "      <td>...</td>\n",
       "      <td>...</td>\n",
       "      <td>...</td>\n",
       "      <td>...</td>\n",
       "      <td>...</td>\n",
       "    </tr>\n",
       "    <tr>\n",
       "      <th>229373</th>\n",
       "      <td>West_Bengal</td>\n",
       "      <td>PURULIA</td>\n",
       "      <td>2014</td>\n",
       "      <td>Summer</td>\n",
       "      <td>Rice</td>\n",
       "      <td>306.0</td>\n",
       "      <td>801.0</td>\n",
       "      <td>east_india</td>\n",
       "      <td>Cereals</td>\n",
       "      <td>2.617647</td>\n",
       "    </tr>\n",
       "    <tr>\n",
       "      <th>229374</th>\n",
       "      <td>West_Bengal</td>\n",
       "      <td>PURULIA</td>\n",
       "      <td>2014</td>\n",
       "      <td>Summer</td>\n",
       "      <td>Sesamum</td>\n",
       "      <td>627.0</td>\n",
       "      <td>463.0</td>\n",
       "      <td>east_india</td>\n",
       "      <td>Oilseeds</td>\n",
       "      <td>0.738437</td>\n",
       "    </tr>\n",
       "    <tr>\n",
       "      <th>229375</th>\n",
       "      <td>West_Bengal</td>\n",
       "      <td>PURULIA</td>\n",
       "      <td>2014</td>\n",
       "      <td>Whole_Year</td>\n",
       "      <td>Sugarcane</td>\n",
       "      <td>324.0</td>\n",
       "      <td>16250.0</td>\n",
       "      <td>east_india</td>\n",
       "      <td>Sugarcane</td>\n",
       "      <td>50.154321</td>\n",
       "    </tr>\n",
       "    <tr>\n",
       "      <th>229376</th>\n",
       "      <td>West_Bengal</td>\n",
       "      <td>PURULIA</td>\n",
       "      <td>2014</td>\n",
       "      <td>Winter</td>\n",
       "      <td>Rice</td>\n",
       "      <td>279151.0</td>\n",
       "      <td>597899.0</td>\n",
       "      <td>east_india</td>\n",
       "      <td>Cereals</td>\n",
       "      <td>2.141848</td>\n",
       "    </tr>\n",
       "    <tr>\n",
       "      <th>229377</th>\n",
       "      <td>West_Bengal</td>\n",
       "      <td>PURULIA</td>\n",
       "      <td>2014</td>\n",
       "      <td>Winter</td>\n",
       "      <td>Sesamum</td>\n",
       "      <td>175.0</td>\n",
       "      <td>88.0</td>\n",
       "      <td>east_india</td>\n",
       "      <td>Oilseeds</td>\n",
       "      <td>0.502857</td>\n",
       "    </tr>\n",
       "  </tbody>\n",
       "</table>\n",
       "<p>229378 rows × 10 columns</p>\n",
       "</div>"
      ],
      "text/plain": [
       "                         State_Name District_Name  Crop_Year      Season  \\\n",
       "0       Andaman_and_Nicobar_Islands      NICOBARS       2000      Kharif   \n",
       "1       Andaman_and_Nicobar_Islands      NICOBARS       2000      Kharif   \n",
       "2       Andaman_and_Nicobar_Islands      NICOBARS       2000      Kharif   \n",
       "3       Andaman_and_Nicobar_Islands      NICOBARS       2000  Whole_Year   \n",
       "4       Andaman_and_Nicobar_Islands      NICOBARS       2000  Whole_Year   \n",
       "...                             ...           ...        ...         ...   \n",
       "229373                  West_Bengal       PURULIA       2014      Summer   \n",
       "229374                  West_Bengal       PURULIA       2014      Summer   \n",
       "229375                  West_Bengal       PURULIA       2014  Whole_Year   \n",
       "229376                  West_Bengal       PURULIA       2014      Winter   \n",
       "229377                  West_Bengal       PURULIA       2014      Winter   \n",
       "\n",
       "                       Crop      Area  Production        Zone Crop_Category  \\\n",
       "0                  Arecanut    1254.0      2000.0    ut_india        Others   \n",
       "1       Other_Kharif_pulses       2.0         1.0    ut_india        Others   \n",
       "2                      Rice     102.0       321.0    ut_india       Cereals   \n",
       "3                    Banana     176.0       641.0    ut_india        Fruits   \n",
       "4                 Cashewnut     720.0       165.0    ut_india          Nuts   \n",
       "...                     ...       ...         ...         ...           ...   \n",
       "229373                 Rice     306.0       801.0  east_india       Cereals   \n",
       "229374              Sesamum     627.0       463.0  east_india      Oilseeds   \n",
       "229375            Sugarcane     324.0     16250.0  east_india     Sugarcane   \n",
       "229376                 Rice  279151.0    597899.0  east_india       Cereals   \n",
       "229377              Sesamum     175.0        88.0  east_india      Oilseeds   \n",
       "\n",
       "        Production/Area  \n",
       "0              1.594896  \n",
       "1              0.500000  \n",
       "2              3.147059  \n",
       "3              3.642045  \n",
       "4              0.229167  \n",
       "...                 ...  \n",
       "229373         2.617647  \n",
       "229374         0.738437  \n",
       "229375        50.154321  \n",
       "229376         2.141848  \n",
       "229377         0.502857  \n",
       "\n",
       "[229378 rows x 10 columns]"
      ]
     },
     "execution_count": 13,
     "metadata": {},
     "output_type": "execute_result"
    }
   ],
   "source": [
    "Crop_df"
   ]
  },
  {
   "cell_type": "code",
   "execution_count": 14,
   "metadata": {},
   "outputs": [
    {
     "data": {
      "text/plain": [
       "array(['Arecanut', 'Other_Kharif_pulses', 'Rice', 'Banana', 'Cashewnut',\n",
       "       'Coconut', 'Dry_ginger', 'Sugarcane', 'Sweet_potato', 'Tapioca',\n",
       "       'Black_pepper', 'Dry_chillies', 'other_oilseeds', 'Turmeric',\n",
       "       'Maize', 'MoongGreen_Gram', 'Urad', 'ArharTur', 'Groundnut',\n",
       "       'Sunflower', 'Bajra', 'Castor_seed', 'Cottonlint', 'Horse-gram',\n",
       "       'Jowar', 'Korra', 'Ragi', 'Gram', 'Wheat', 'Tobacco', 'Masoor',\n",
       "       'Sesamum', 'Linseed', 'Safflower', 'Onion', 'other_misc._pulses',\n",
       "       'Samai', 'Small_millets', 'Coriander', 'Potato',\n",
       "       'Other__Rabi_pulses', 'Beans_&_MutterVegetable', 'Bhindi',\n",
       "       'Brinjal', 'Citrus_Fruit', 'Grapes', 'Mango', 'Orange',\n",
       "       'Other_Fresh_Fruits', 'Papaya', 'Pome_Fruit', 'Tomato', 'Soyabean',\n",
       "       'Mesta', 'CowpeaLobia', 'Lemon', 'Pome_Granet', 'Sapota',\n",
       "       'Cabbage', 'Rapeseed_&Mustard', 'Niger_seed', 'Varagu', 'Garlic',\n",
       "       'Ginger', 'Oilseeds_total', 'Pulses_total', 'Jute',\n",
       "       'Peas_&_beans_Pulses', 'Blackgram', 'Paddy', 'Pineapple', 'Barley',\n",
       "       'Sannhamp', 'Khesari', 'Guar_seed', 'Other_Vegetables', 'Moth',\n",
       "       'Other_Cereals_&_Millets', 'Cond-spcs_other', 'Turnip', 'Carrot',\n",
       "       'Redish', 'Arcanut_Processed', 'Atcanut_Raw',\n",
       "       'Cashewnut_Processed', 'Cashewnut_Raw', 'Cardamom', 'Rubber',\n",
       "       'Drum_Stick', 'Jack_Fruit', 'Tea', 'Coffee', 'Cauliflower',\n",
       "       'Bitter_Gourd', 'Bottle_Gourd', 'Kapas', 'Total_foodgrain',\n",
       "       'Colocosia', 'Lentil', 'Bean', 'Jobster', 'Perilla',\n",
       "       'Rajmash_Kholar', 'Ricebean_nagadal', 'Jute_&_mesta'], dtype=object)"
      ]
     },
     "execution_count": 14,
     "metadata": {},
     "output_type": "execute_result"
    }
   ],
   "source": [
    "Crop_df.Crop.unique()"
   ]
  },
  {
   "cell_type": "code",
   "execution_count": 15,
   "metadata": {},
   "outputs": [],
   "source": [
    "Crop_df=Crop_df.drop(['District_Name','Zone','Crop_Category'],axis=1)"
   ]
  },
  {
   "cell_type": "code",
   "execution_count": 16,
   "metadata": {},
   "outputs": [],
   "source": [
    "le=LabelEncoder()\n",
    "categorical_col=Crop_df.select_dtypes(include=\"object\")\n",
    "for i in categorical_col:\n",
    "    Crop_df[i]=le.fit_transform(Crop_df[i])"
   ]
  },
  {
   "cell_type": "code",
   "execution_count": 17,
   "metadata": {},
   "outputs": [],
   "source": [
    "X=Crop_df.drop(\"Production\",axis=1)\n",
    "y=Crop_df[\"Production\"]"
   ]
  },
  {
   "cell_type": "code",
   "execution_count": 18,
   "metadata": {},
   "outputs": [],
   "source": [
    "X_train,X_test,y_train,y_test=train_test_split(X,y,test_size=0.33,random_state=1)\n"
   ]
  },
  {
   "cell_type": "code",
   "execution_count": 19,
   "metadata": {},
   "outputs": [],
   "source": [
    "scaler=StandardScaler()\n",
    "x_train_scaled=scaler.fit_transform(X_train)\n",
    "x_test_scaled=scaler.transform(X_test)\n"
   ]
  },
  {
   "cell_type": "code",
   "execution_count": 20,
   "metadata": {},
   "outputs": [
    {
     "name": "stdout",
     "output_type": "stream",
     "text": [
      "Root Mean Squared Error (RMSE): 677747.9400213145\n",
      "R-squared (R2) Score: 0.9984469846533012\n"
     ]
    }
   ],
   "source": [
    "# Step 3: Create and train the ExtraTreeRegressor model\n",
    "model = ExtraTreesRegressor(n_estimators=100, random_state=42)\n",
    "model.fit(x_train_scaled, y_train)\n",
    "\n",
    "# Step 4: Make predictions on the test set\n",
    "y_pred = model.predict(x_test_scaled)\n",
    "\n",
    "# Step 5: Evaluate the model\n",
    "rmse = np.sqrt(mean_squared_error(y_test, y_pred))\n",
    "r2 = r2_score(y_test, y_pred)\n",
    "\n",
    "print(\"Root Mean Squared Error (RMSE):\", rmse)\n",
    "print(\"R-squared (R2) Score:\", r2)\n"
   ]
  },
  {
   "cell_type": "code",
   "execution_count": 21,
   "metadata": {},
   "outputs": [
    {
     "name": "stdout",
     "output_type": "stream",
     "text": [
      "         Original     Predicted\n",
      "217510        9.0  9.020000e+00\n",
      "95307     23084.0  2.314212e+04\n",
      "85092       161.0  1.617260e+02\n",
      "41289     40092.0  3.995401e+04\n",
      "37287       120.0  1.185400e+02\n",
      "185534       64.0  6.404000e+01\n",
      "32590    108852.0  1.090195e+05\n",
      "54219       100.0  1.004990e+02\n",
      "40385      2079.0  2.096700e+03\n",
      "72244     15845.0  1.595175e+04\n",
      "167310     2715.0  2.725613e+03\n",
      "189582     7212.0  7.288858e+03\n",
      "125154     2400.0  2.404664e+03\n",
      "114085    72100.0  7.213227e+04\n",
      "125085     1585.0  1.580797e+03\n",
      "33560       845.0  8.399800e+02\n",
      "45596       267.0  2.694680e+02\n",
      "1348       3000.0  3.000000e+03\n",
      "212095  2567192.0  2.603889e+06\n",
      "131627     6186.0  6.170480e+03\n"
     ]
    }
   ],
   "source": [
    "df_comparison = pd.DataFrame({'Original': y_test, 'Predicted': y_pred})\n",
    "print(df_comparison.sample(20))"
   ]
  },
  {
   "cell_type": "markdown",
   "metadata": {},
   "source": [
    "### In this Jupyter Notebook project, we utilized the ExtraTreeRegressor model for our predictive analysis. The model's performance was evaluated using key metrics such as Root Mean Squared Error (RMSE) and R-squared (R2) score, which were found to be 677,747.94 and 0.9984 respectively. These metrics provide insights into the accuracy and predictive power of the ExtraTreeRegressor model in our project."
   ]
  },
  {
   "cell_type": "markdown",
   "metadata": {},
   "source": [
    "**Project Summary and Conclusions**\n",
    "\n",
    "**1. Introduction:**\n",
    "   The analysis of agricultural data aimed to uncover production trends, crop distribution patterns, and seasonal variations across different regions and states. The focus was primarily on understanding the dynamics of crop production to aid in decision-making processes for stakeholders in the agricultural sector."
   ]
  },
  {
   "cell_type": "markdown",
   "metadata": {},
   "source": [
    "**2. Insights from Tableau Dashboard:**\n",
    "\n",
    "   - **Production Distribution:** \n",
    "     - Uttar Pradesh, Maharashtra, and Tamil Nadu collectively contribute nearly 50% of the total production.\n",
    "     - Sugarcane dominates crop production, contributing to 48.80% of the total, followed by rice and wheat.\n",
    "     \n",
    "   - **Seasonal Analysis:** \n",
    "     - Kharif season accounts for the highest share of production (37.79%), followed by the entire year (37.41%), Rubi (18.66%), winter (3.98%), and summer (1.58%).\n",
    "     \n",
    "   - **State-specific Insights:** \n",
    "     - Uttar Pradesh's major crops include sugarcane, wheat, rice, and potato, with significant production during the kharif season.\n",
    "     - Maharashtra's production is dominated by sugarcane, cotton lint, soybean, and rice, with considerable production throughout the year.\n",
    "     \n",
    "   - **Crop-wise Analysis:** \n",
    "     - Major crops during the kharif season include sugarcane, rice, cotton lint, maize, and jute, while sugarcane, potato, and banana dominate throughout the year.\n",
    "     \n",
    "   - **Crop Yield and Yearly Trends:** \n",
    "     - Sugarcane, papaya, and banana have the highest yield per hectare. Top production years vary across different crops and regions.\n",
    "     \n",
    "   - **Dataset Completeness:** \n",
    "     - Data availability varies across different years, with 2002 having the highest availability of crop data.\n",
    "     \n",
    "   - **Regional Production:** \n",
    "     - In 2014, kharif season production accounted for a significant portion of the total production, with North India contributing the highest share.\n"
   ]
  },
  {
   "cell_type": "markdown",
   "metadata": {},
   "source": [
    "**3. Analysis in Jupyter Notebook:**\n",
    "\n",
    "   - **Data Preprocessing:** \n",
    "     - Data cleaning involved dropping unnecessary columns and encoding categorical variables for model training.\n",
    "     \n",
    "   - **Model Training and Evaluation:** \n",
    "     - Utilized ExtraTreesRegressor model for predicting production values.\n",
    "     - Achieved a high R-squared score of 0.9984, indicating excellent model fit. However, the relatively high RMSE suggests room for improvement in predictive accuracy.\n"
   ]
  },
  {
   "cell_type": "markdown",
   "metadata": {},
   "source": [
    "     \n",
    "**4. Conclusions:**\n",
    "   - The analysis revealed significant insights into production trends, crop distribution, and seasonal variations, providing valuable information for stakeholders in the agricultural sector.\n",
    "   - While the model demonstrated a high degree of explanatory power, further refinement may be necessary to improve predictive accuracy and address potential outliers or data variability.\n",
    "   - Overall, the project contributes to a better understanding of agricultural dynamics and supports informed decision-making for agricultural planning and management."
   ]
  },
  {
   "cell_type": "markdown",
   "metadata": {},
   "source": [
    "## Thank you \n",
    "Akash Patil<br>\n",
    "aakashgolu1008@gmail.com"
   ]
  },
  {
   "cell_type": "code",
   "execution_count": null,
   "metadata": {},
   "outputs": [],
   "source": []
  }
 ],
 "metadata": {
  "kernelspec": {
   "display_name": "Python 3 (ipykernel)",
   "language": "python",
   "name": "python3"
  },
  "language_info": {
   "codemirror_mode": {
    "name": "ipython",
    "version": 3
   },
   "file_extension": ".py",
   "mimetype": "text/x-python",
   "name": "python",
   "nbconvert_exporter": "python",
   "pygments_lexer": "ipython3",
   "version": "3.11.7"
  }
 },
 "nbformat": 4,
 "nbformat_minor": 4
}
